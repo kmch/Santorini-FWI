{
 "cells": [
  {
   "cell_type": "markdown",
   "metadata": {
    "slideshow": {
     "slide_type": "skip"
    }
   },
   "source": [
    "#### Notebook config"
   ]
  },
  {
   "cell_type": "code",
   "execution_count": 2,
   "metadata": {
    "code_folding": [
     0
    ]
   },
   "outputs": [
    {
     "name": "stdout",
     "output_type": "stream",
     "text": [
      "Created `%mi` as an alias for `%matplotlib inline`.\n",
      "Created `%mn` as an alias for `%matplotlib notebook`.\n"
     ]
    }
   ],
   "source": [
    "# %load ~/software/fullwavepy/fullwavepy/config/jupyter.py \n",
    "from fullwavepy import * # Load modules imported in fullwavepy/__init__.py\n",
    "# -----------------------------------------------------------------------------\n",
    "# Set aliases of frequently used jupyter magic commands\n",
    "# -----------------------------------------------------------------------------\n",
    "%alias_magic mi matplotlib -p inline\n",
    "%alias_magic mn matplotlib -p notebook\n",
    "# -----------------------------------------------------------------------------\n",
    "# Set matplotlib backend\n",
    "# -----------------------------------------------------------------------------\n",
    "# non-interactive plots displayed in a notebook cell\n",
    "%matplotlib inline\n",
    "# interactive plots displayed in a notebook cell\n",
    "# %matplotlib notebook (interactive version)\n",
    "# -----------------------------------------------------------------------------\n",
    "# Set matplotlib style\n",
    "# ----------------------------------------------------------------------------\n",
    "plt.style.reload_library()\n",
    "# a combined style (right overwrites left wherever they overlap):\n",
    "plt.style.use(['default', 'ggplot'])\n",
    "# print(plt.style.available) \n",
    "# -----------------------------------------------------------------------------\n",
    "# Configure logging\n",
    "# -----------------------------------------------------------------------------\n",
    "# Set up loggers, handlers and load the log_lvl function\n",
    "from fullwavepy.config.logging import *\n",
    "# -----------------------------------------------------------------------------\n",
    "# Set level of log-messages\n",
    "log_lvl(ERROR) \n",
    "# Other options in order of increasing importance and \n",
    "# decreasing verbosity:\n",
    "# TRACE, DEBUG, INFO, WARNING, ERROR, CRITICAL\n",
    "# or using integers: 0, 10, 20, 30, 40, 50, respectively\n",
    "# -----------------------------------------------------------------------------\n",
    "# Autocompleting\n",
    "# -----------------------------------------------------------------------------\n",
    "#  Not sure if it works\n",
    "#%config IPCompleter.greedy=True \n",
    "# -----------------------------------------------------------------------------\n",
    "# Automatically reload modules before execution\n",
    "#%load_ext autoreload\n",
    "#%autoreload 2"
   ]
  },
  {
   "cell_type": "code",
   "execution_count": 3,
   "metadata": {},
   "outputs": [],
   "source": [
    "xp = PROTEUS()\n",
    "path_eph = '/home/kmc3817/rds_home/my_ephemeral/PROJECTS/ch08_Kolumbo_volcano'\n",
    "exe = { \n",
    "    'fullwave':  '~/PhD/fullwave3D/rev690/bin/fullwave3D.exe',\n",
    "    'fullwave_local': '/home/kmc3817/light_PhD/fullwave3D/rev690/bin/fullwave3D.exe',\n",
    "    'segyprep':  '/home/kmc3817/light_PhD/fullwave3D/segyprep_v3.16/bin/segyprep_v3.16'} \n",
    "b01 = xp.box['kol1'].box"
   ]
  },
  {
   "cell_type": "markdown",
   "metadata": {},
   "source": [
    "# Init"
   ]
  },
  {
   "cell_type": "code",
   "execution_count": 19,
   "metadata": {
    "code_folding": []
   },
   "outputs": [],
   "source": [
    "from fullwavepy.fwi.project import ProjEnsemble"
   ]
  },
  {
   "cell_type": "code",
   "execution_count": 20,
   "metadata": {},
   "outputs": [],
   "source": [
    "# path = #'./'\n",
    "# dis01 = {\n",
    "#  'dt': ,\n",
    "#  'dx': ,\n",
    "#  'ns': }\n",
    "# en = SmoothEnsemble(ensemble_name, path)\n",
    "# en.init([1,2,3], path=path, exe=exe, box=b01, **dis01, cat=0)"
   ]
  },
  {
   "cell_type": "markdown",
   "metadata": {},
   "source": [
    "# Inp"
   ]
  },
  {
   "cell_type": "markdown",
   "metadata": {},
   "source": [
    "## Prep"
   ]
  },
  {
   "cell_type": "markdown",
   "metadata": {},
   "source": [
    "### Observed data"
   ]
  },
  {
   "cell_type": "markdown",
   "metadata": {},
   "source": [
    "### Source wavelet"
   ]
  },
  {
   "cell_type": "markdown",
   "metadata": {},
   "source": [
    "### Starting model"
   ]
  },
  {
   "cell_type": "markdown",
   "metadata": {},
   "source": [
    "#### Vp"
   ]
  },
  {
   "cell_type": "markdown",
   "metadata": {},
   "source": [
    "#### Vs"
   ]
  },
  {
   "cell_type": "markdown",
   "metadata": {},
   "source": [
    "#### Epsi"
   ]
  },
  {
   "cell_type": "markdown",
   "metadata": {},
   "source": [
    "#### Delta"
   ]
  },
  {
   "cell_type": "markdown",
   "metadata": {},
   "source": [
    "## Check"
   ]
  },
  {
   "cell_type": "code",
   "execution_count": null,
   "metadata": {},
   "outputs": [],
   "source": [
    "proj.inp.check_by_fullwave()"
   ]
  },
  {
   "cell_type": "markdown",
   "metadata": {},
   "source": [
    "# Run"
   ]
  },
  {
   "cell_type": "markdown",
   "metadata": {},
   "source": [
    "## Logs"
   ]
  },
  {
   "cell_type": "code",
   "execution_count": null,
   "metadata": {},
   "outputs": [],
   "source": [
    "# no = 1\n",
    "# proj.o.o.no[no].cat()"
   ]
  },
  {
   "cell_type": "markdown",
   "metadata": {},
   "source": [
    "# Out"
   ]
  },
  {
   "cell_type": "markdown",
   "metadata": {},
   "source": [
    "## List output files"
   ]
  },
  {
   "cell_type": "code",
   "execution_count": 1,
   "metadata": {},
   "outputs": [
    {
     "name": "stdout",
     "output_type": "stream",
     "text": [
      "CPU times: user 0 ns, sys: 0 ns, total: 0 ns\n",
      "Wall time: 5.72 µs\n"
     ]
    }
   ],
   "source": [
    "%%time \n",
    "# p.reinit(path_eph)\n",
    "# p.o.ls()"
   ]
  },
  {
   "cell_type": "markdown",
   "metadata": {},
   "source": [
    "## Objective function"
   ]
  },
  {
   "cell_type": "code",
   "execution_count": null,
   "metadata": {},
   "outputs": [],
   "source": [
    "# p.reinit(path_eph)\n",
    "# figure(8,4)\n",
    "# p.o.fit.plot(run_ids=[1], legend_size=5)\n",
    "# plt.ylim(20,100)"
   ]
  },
  {
   "cell_type": "markdown",
   "metadata": {},
   "source": [
    "## Data fit"
   ]
  },
  {
   "cell_type": "markdown",
   "metadata": {},
   "source": [
    "### Phase plots"
   ]
  },
  {
   "cell_type": "markdown",
   "metadata": {},
   "source": [
    "### Waveform plots"
   ]
  },
  {
   "cell_type": "markdown",
   "metadata": {},
   "source": [
    "## Models"
   ]
  },
  {
   "cell_type": "markdown",
   "metadata": {},
   "source": [
    "# ..."
   ]
  }
 ],
 "metadata": {
  "kernelspec": {
   "display_name": "Python 3",
   "language": "python",
   "name": "python3"
  },
  "language_info": {
   "codemirror_mode": {
    "name": "ipython",
    "version": 3
   },
   "file_extension": ".py",
   "mimetype": "text/x-python",
   "name": "python",
   "nbconvert_exporter": "python",
   "pygments_lexer": "ipython3",
   "version": "3.5.2"
  },
  "latex_envs": {
   "LaTeX_envs_menu_present": true,
   "autoclose": false,
   "autocomplete": true,
   "bibliofile": "biblio.bib",
   "cite_by": "apalike",
   "current_citInitial": 1,
   "eqLabelWithNumbers": true,
   "eqNumInitial": 1,
   "hotkeys": {
    "equation": "Ctrl-E",
    "itemize": "Ctrl-I"
   },
   "labels_anchors": false,
   "latex_user_defs": false,
   "report_style_numbering": false,
   "user_envs_cfg": false
  },
  "toc": {
   "base_numbering": 1,
   "nav_menu": {},
   "number_sections": false,
   "sideBar": false,
   "skip_h1_title": false,
   "title_cell": "Table of Contents",
   "title_sidebar": "Contents",
   "toc_cell": false,
   "toc_position": {},
   "toc_section_display": true,
   "toc_window_display": false
  }
 },
 "nbformat": 4,
 "nbformat_minor": 2
}
